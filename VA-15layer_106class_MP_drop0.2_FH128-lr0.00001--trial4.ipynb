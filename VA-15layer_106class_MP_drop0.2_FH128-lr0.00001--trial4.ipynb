{
 "cells": [
  {
   "cell_type": "code",
   "execution_count": 1,
   "id": "d962aad3",
   "metadata": {},
   "outputs": [],
   "source": [
    "import keras\n",
    "import tensorflow as tf\n",
    "from tensorflow.keras.preprocessing.image import ImageDataGenerator\n",
    "from tensorflow.keras.layers import Input, Conv2D, MaxPool2D, Dropout, BatchNormalization, Dense, Flatten, LayerNormalization\n",
    "from tensorflow.keras.models import Sequential, Model\n",
    "from tensorflow.keras.optimizers import Adam\n",
    "import tensorflow.keras.applications as appl\n",
    "from sklearn.model_selection import train_test_split\n",
    "import os\n",
    "import cv2\n",
    "import time\n",
    "import random\n",
    "import numpy as np\n",
    "import matplotlib.pyplot as plt\n",
    "import seaborn as sns\n",
    "import sklearn.metrics as metrics\n",
    "from tqdm import tqdm\n",
    "from tensorflow.keras.utils import Sequence\n",
    "from keras import callbacks  \n",
    "from keras.models import load_model\n",
    "from keras.utils import np_utils"
   ]
  },
  {
   "cell_type": "code",
   "execution_count": 2,
   "id": "13774f1e",
   "metadata": {},
   "outputs": [],
   "source": [
    "load_path='E:/VA/onehandtwohand/128/106words_DSLR_FH/'"
   ]
  },
  {
   "cell_type": "code",
   "execution_count": 3,
   "id": "edaddf29",
   "metadata": {},
   "outputs": [],
   "source": [
    "CATEGORIES=np.load(load_path+'cat_106.npy', allow_pickle=True)"
   ]
  },
  {
   "cell_type": "code",
   "execution_count": 4,
   "id": "30ec32df",
   "metadata": {},
   "outputs": [
    {
     "name": "stdout",
     "output_type": "stream",
     "text": [
      "['1' '3' '4' '5' '6' '7' '8' '9' 'bull' 'camel' 'cat' 'cow' 'crocodile'\n",
      " 'deer' 'dog' 'elephant' 'goat' 'heron' 'horse' 'lion' 'peacock' 'snake'\n",
      " 'tiger' 'antelope' 'bag' 'book' 'bottle' 'colour' 'dolphin' 'dupatta'\n",
      " 'fast' 'fish' 'frog' 'gun' 'hair' 'help' 'idea' 'internet' 'jeans'\n",
      " 'location' 'owl' 'pen' 'photo' 'rain' 'saree' 'school' 'shoot' 'sun'\n",
      " 'technology' 'A' 'B' 'C' 'D' 'E' 'F' 'G' 'H' 'I' 'J' 'K' 'L' 'M' 'N' 'O'\n",
      " 'P' 'Q' 'R' 'S' 'T' 'U' 'V' 'W' 'X' 'Y' 'Z' 'accept' 'age' 'assistant'\n",
      " 'black' 'boot' 'card' 'cash' 'chicken' 'dance' 'earpods' 'handkerchief'\n",
      " 'home' 'human' 'keep' 'laptop' 'meet' 'mobile' 'monkey' 'namastey'\n",
      " 'person' 'proof' 'signature' 'sleep' 'spider' 'stand' 'star' 'tv'\n",
      " 'umbrella' 'white' 'wolf' 'yellow']\n"
     ]
    }
   ],
   "source": [
    "print(CATEGORIES)"
   ]
  },
  {
   "cell_type": "code",
   "execution_count": 5,
   "id": "659cb729",
   "metadata": {},
   "outputs": [],
   "source": [
    "IMG_SIZE=128"
   ]
  },
  {
   "cell_type": "code",
   "execution_count": 6,
   "id": "12d7e2d6",
   "metadata": {},
   "outputs": [
    {
     "name": "stdout",
     "output_type": "stream",
     "text": [
      "106\n"
     ]
    }
   ],
   "source": [
    "cat_len=len(CATEGORIES)\n",
    "print(cat_len)"
   ]
  },
  {
   "cell_type": "markdown",
   "id": "cc104aa6",
   "metadata": {},
   "source": [
    "# Save combined data npy"
   ]
  },
  {
   "cell_type": "code",
   "execution_count": 16,
   "id": "d4dd8029",
   "metadata": {},
   "outputs": [],
   "source": [
    "# model\n",
    "\n",
    "# model_name1 = 'InceptionResNetV2'\n",
    "# model_name1 = '4layer'\n",
    "model_name1 = '15layer_lr0.00001_106words_dslr128-99.83-trial4'\n",
    "#model_name2 = 'VGG16'\n",
    "# model_name1 = 'DenseNet121'\n",
    "# model_name1 = 'InceptionV3'"
   ]
  },
  {
   "cell_type": "markdown",
   "id": "fa37bec1",
   "metadata": {},
   "source": [
    "Loading"
   ]
  },
  {
   "cell_type": "code",
   "execution_count": 8,
   "id": "0def0f5d",
   "metadata": {},
   "outputs": [],
   "source": [
    "X=np.load(load_path+'X_dslr.npy', allow_pickle=True)\n",
    "Y=np.load(load_path+'Y_dslr.npy', allow_pickle=True)"
   ]
  },
  {
   "cell_type": "code",
   "execution_count": 9,
   "id": "bac9e4e1",
   "metadata": {},
   "outputs": [],
   "source": [
    "X = X.astype('float32')\n",
    "X /= 255\n"
   ]
  },
  {
   "cell_type": "code",
   "execution_count": 10,
   "id": "89586ad1",
   "metadata": {},
   "outputs": [
    {
     "name": "stdout",
     "output_type": "stream",
     "text": [
      "Splitting\n",
      "pass\n"
     ]
    }
   ],
   "source": [
    "print('Splitting') \n",
    "X_train, X_test, y_train, y_test = train_test_split(X, Y, test_size = 0.3, random_state = cat_len)\n",
    "X_train, X_new, y_train, y_new = train_test_split(X_train, y_train, test_size = 0.2, random_state = cat_len)\n",
    "X_train = np.array(X_train)\n",
    "y_train = np.array(y_train)\n",
    "X_test = np.array(X_test)\n",
    "y_test = np.array(y_test)\n",
    "X_new = np.array(X_new)\n",
    "y_new = np.array(y_new)\n",
    "\n",
    "print(\"pass\")"
   ]
  },
  {
   "cell_type": "code",
   "execution_count": 11,
   "id": "f26320e2",
   "metadata": {},
   "outputs": [],
   "source": [
    "del X,Y"
   ]
  },
  {
   "cell_type": "code",
   "execution_count": 12,
   "id": "f75aadef",
   "metadata": {},
   "outputs": [
    {
     "name": "stdout",
     "output_type": "stream",
     "text": [
      "Image Data Augmentation\n",
      "done\n"
     ]
    }
   ],
   "source": [
    "print('Image Data Augmentation')\n",
    "from keras.preprocessing.image import ImageDataGenerator\n",
    "val_generator = ImageDataGenerator(rotation_range=0, zoom_range=0.2, width_shift_range=0.2,\n",
    "    height_shift_range=0.2, shear_range=0.2)\n",
    "#                                     , horizontal_flip=True, brightness_range=[0.6,1.3])\n",
    "val_generator.fit(X_train)\n",
    "val_generator.fit(X_new)\n",
    "val_generator.fit(X_test)\n",
    "\n",
    "print(\"done\")"
   ]
  },
  {
   "cell_type": "code",
   "execution_count": 13,
   "id": "48682243",
   "metadata": {},
   "outputs": [
    {
     "name": "stdout",
     "output_type": "stream",
     "text": [
      "Model: \"sequential\"\n",
      "_________________________________________________________________\n",
      " Layer (type)                Output Shape              Param #   \n",
      "=================================================================\n",
      " conv2d (Conv2D)             (None, 128, 128, 32)      2432      \n",
      "                                                                 \n",
      " batch_normalization (BatchN  (None, 128, 128, 32)     128       \n",
      " ormalization)                                                   \n",
      "                                                                 \n",
      " conv2d_1 (Conv2D)           (None, 128, 128, 32)      25632     \n",
      "                                                                 \n",
      " conv2d_2 (Conv2D)           (None, 128, 128, 64)      51264     \n",
      "                                                                 \n",
      " max_pooling2d (MaxPooling2D  (None, 64, 64, 64)       0         \n",
      " )                                                               \n",
      "                                                                 \n",
      " batch_normalization_1 (Batc  (None, 64, 64, 64)       256       \n",
      " hNormalization)                                                 \n",
      "                                                                 \n",
      " conv2d_3 (Conv2D)           (None, 64, 64, 64)        102464    \n",
      "                                                                 \n",
      " conv2d_4 (Conv2D)           (None, 64, 64, 128)       204928    \n",
      "                                                                 \n",
      " batch_normalization_2 (Batc  (None, 64, 64, 128)      512       \n",
      " hNormalization)                                                 \n",
      "                                                                 \n",
      " conv2d_5 (Conv2D)           (None, 64, 64, 128)       409728    \n",
      "                                                                 \n",
      " max_pooling2d_1 (MaxPooling  (None, 32, 32, 128)      0         \n",
      " 2D)                                                             \n",
      "                                                                 \n",
      " conv2d_6 (Conv2D)           (None, 32, 32, 256)       819456    \n",
      "                                                                 \n",
      " batch_normalization_3 (Batc  (None, 32, 32, 256)      1024      \n",
      " hNormalization)                                                 \n",
      "                                                                 \n",
      " conv2d_7 (Conv2D)           (None, 32, 32, 512)       3277312   \n",
      "                                                                 \n",
      " conv2d_8 (Conv2D)           (None, 32, 32, 256)       1179904   \n",
      "                                                                 \n",
      " max_pooling2d_2 (MaxPooling  (None, 16, 16, 256)      0         \n",
      " 2D)                                                             \n",
      "                                                                 \n",
      " batch_normalization_4 (Batc  (None, 16, 16, 256)      1024      \n",
      " hNormalization)                                                 \n",
      "                                                                 \n",
      " conv2d_9 (Conv2D)           (None, 16, 16, 128)       295040    \n",
      "                                                                 \n",
      " conv2d_10 (Conv2D)          (None, 16, 16, 64)        73792     \n",
      "                                                                 \n",
      " conv2d_11 (Conv2D)          (None, 16, 16, 32)        18464     \n",
      "                                                                 \n",
      " max_pooling2d_3 (MaxPooling  (None, 8, 8, 32)         0         \n",
      " 2D)                                                             \n",
      "                                                                 \n",
      " flatten (Flatten)           (None, 2048)              0         \n",
      "                                                                 \n",
      " dense (Dense)               (None, 2048)              4196352   \n",
      "                                                                 \n",
      " dropout (Dropout)           (None, 2048)              0         \n",
      "                                                                 \n",
      " dense_1 (Dense)             (None, 1024)              2098176   \n",
      "                                                                 \n",
      " dropout_1 (Dropout)         (None, 1024)              0         \n",
      "                                                                 \n",
      " dense_2 (Dense)             (None, 106)               108650    \n",
      "                                                                 \n",
      "=================================================================\n",
      "Total params: 12,866,538\n",
      "Trainable params: 12,865,066\n",
      "Non-trainable params: 1,472\n",
      "_________________________________________________________________\n"
     ]
    }
   ],
   "source": [
    "\n",
    "#layers:15\n",
    "#change:added batchnorm:+5, layernorm: +`1,learning_rate=0.00001\n",
    "# # output: valacc:  acc:  %, val_loss:\n",
    "\n",
    "model = Sequential()\n",
    "\n",
    "model.add(Conv2D(32, (5, 5), input_shape = (IMG_SIZE,IMG_SIZE,3), padding='same', activation='relu'))         #1\n",
    "# model.add(MaxPool2D(pool_size = (2, 2),strides=2,padding='same'))\n",
    "# model.add(Dropout(0.30))\n",
    "\n",
    "model.add(BatchNormalization())\n",
    "\n",
    "model.add(Conv2D(32, (5, 5), padding='same', activation='relu'))                                              #2\n",
    "# model.add(MaxPool2D(pool_size = (2, 2),strides=2,padding='same'))\n",
    "# model.add(Dropout(0.30))\n",
    "\n",
    "\n",
    "model.add(Conv2D(64, (5, 5), padding='same', activation='relu'))                                              #2\n",
    "model.add(MaxPool2D(pool_size = (2, 2),strides=2,padding='same'))\n",
    "# model.add(Dropout(0.30))\n",
    "\n",
    "model.add(BatchNormalization())\n",
    "\n",
    "model.add(Conv2D(64, (5, 5), padding='same', activation='relu'))                                              #2\n",
    "# model.add(MaxPool2D(pool_size = (2, 2),strides=2,padding='same'))\n",
    "# model.add(Dropout(0.30))\n",
    "\n",
    "model.add(Conv2D(128, (5, 5), padding='same', activation='relu'))                                              #3\n",
    "# model.add(MaxPool2D(pool_size = (2, 2),strides=2,padding='same'))\n",
    "# model.add(Dropout(0.30))\n",
    "\n",
    "model.add(BatchNormalization())\n",
    "\n",
    "model.add(Conv2D(128, (5, 5), padding='same', activation='relu'))                                              #4\n",
    "model.add(MaxPool2D(pool_size = (2, 2),strides=2,padding='same'))\n",
    "# model.add(Dropout(0.30))\n",
    "\n",
    "model.add(Conv2D(256, (5, 5), padding='same', activation='relu'))                                              #5\n",
    "# model.add(MaxPool2D(pool_size = (2, 2),strides=2,padding='same'))\n",
    "# model.add(Dropout(0.30))\n",
    "\n",
    "model.add(BatchNormalization())\n",
    "\n",
    "model.add(Conv2D(512, (5, 5), padding='same', activation='relu'))                                              #6\n",
    "# model.add(MaxPool2D(pool_size = (2, 2),strides=2,padding='same'))\n",
    "# model.add(Dropout(0.30))\n",
    "\n",
    "model.add(Conv2D(256, (3, 3), padding='same', activation='relu'))                                             #7\n",
    "model.add(MaxPool2D(pool_size = (2, 2),strides=2,padding='same'))\n",
    "# model.add(Dropout(0.20))\n",
    "\n",
    "model.add(BatchNormalization())\n",
    "\n",
    "model.add(Conv2D(128, (3, 3), padding='same', activation='relu'))                                             #8\n",
    "# model.add(MaxPool2D(pool_size = (2, 2),strides=2,padding='same'))\n",
    "# model.add(Dropout(0.30))\n",
    "\n",
    "model.add(Conv2D(64, (3, 3), padding='same', activation='relu'))                                              #2\n",
    "# model.add(MaxPool2D(pool_size = (2, 2),strides=2,padding='same'))\n",
    "# model.add(Dropout(0.30))\n",
    "\n",
    "# model.add(LayerNormalization())\n",
    "\n",
    "model.add(Conv2D(32, (3, 3), padding='same', activation='relu'))                                              #2\n",
    "model.add(MaxPool2D(pool_size = (2, 2),strides=2,padding='same'))\n",
    "# model.add(Dropout(0.30))\n",
    "\n",
    "model.add(Flatten())\n",
    "\n",
    "model.add(Dense(2048, activation = 'relu'))\n",
    "model.add(Dropout(0.20))\n",
    "model.add(Dense(1024, activation = 'relu'))\n",
    "model.add(Dropout(0.20))\n",
    "model.add(Dense(cat_len, activation = 'softmax'))                                               #11\n",
    "\n",
    "model1=model\n",
    "model1.summary()"
   ]
  },
  {
   "cell_type": "code",
   "execution_count": 14,
   "id": "9a88ad52",
   "metadata": {},
   "outputs": [
    {
     "name": "stdout",
     "output_type": "stream",
     "text": [
      "Training model 1\n",
      "Epoch 1/1000\n",
      "487/487 [==============================] - 72s 125ms/step - loss: 3.2099 - accuracy: 0.2550 - val_loss: 4.3483 - val_accuracy: 0.0439\n",
      "Epoch 2/1000\n",
      "487/487 [==============================] - 53s 109ms/step - loss: 1.5081 - accuracy: 0.5993 - val_loss: 0.7945 - val_accuracy: 0.8150\n",
      "Epoch 3/1000\n",
      "487/487 [==============================] - 55s 113ms/step - loss: 0.7978 - accuracy: 0.7827 - val_loss: 0.3959 - val_accuracy: 0.9160\n",
      "Epoch 4/1000\n",
      "487/487 [==============================] - 55s 113ms/step - loss: 0.4450 - accuracy: 0.8796 - val_loss: 0.2092 - val_accuracy: 0.9554\n",
      "Epoch 5/1000\n",
      "487/487 [==============================] - 55s 113ms/step - loss: 0.2647 - accuracy: 0.9307 - val_loss: 0.1287 - val_accuracy: 0.9736\n",
      "Epoch 6/1000\n",
      "487/487 [==============================] - 55s 113ms/step - loss: 0.1670 - accuracy: 0.9582 - val_loss: 0.0907 - val_accuracy: 0.9801\n",
      "Epoch 7/1000\n",
      "487/487 [==============================] - 55s 113ms/step - loss: 0.1135 - accuracy: 0.9720 - val_loss: 0.0577 - val_accuracy: 0.9857\n",
      "Epoch 8/1000\n",
      "487/487 [==============================] - 55s 113ms/step - loss: 0.0766 - accuracy: 0.9815 - val_loss: 0.0578 - val_accuracy: 0.9860\n",
      "Epoch 9/1000\n",
      "487/487 [==============================] - 55s 114ms/step - loss: 0.0530 - accuracy: 0.9878 - val_loss: 0.0371 - val_accuracy: 0.9890\n",
      "Epoch 10/1000\n",
      "487/487 [==============================] - 56s 114ms/step - loss: 0.0395 - accuracy: 0.9915 - val_loss: 0.0274 - val_accuracy: 0.9937\n",
      "Epoch 11/1000\n",
      "487/487 [==============================] - 56s 114ms/step - loss: 0.0298 - accuracy: 0.9944 - val_loss: 0.0313 - val_accuracy: 0.9917\n",
      "Epoch 12/1000\n",
      "487/487 [==============================] - 56s 114ms/step - loss: 0.0262 - accuracy: 0.9939 - val_loss: 0.0302 - val_accuracy: 0.9911\n",
      "Epoch 13/1000\n",
      "487/487 [==============================] - 56s 115ms/step - loss: 0.0205 - accuracy: 0.9959 - val_loss: 0.0205 - val_accuracy: 0.9952\n",
      "Epoch 14/1000\n",
      "487/487 [==============================] - 56s 115ms/step - loss: 0.0178 - accuracy: 0.9964 - val_loss: 0.0234 - val_accuracy: 0.9930\n",
      "Epoch 15/1000\n",
      "487/487 [==============================] - 56s 115ms/step - loss: 0.0116 - accuracy: 0.9975 - val_loss: 0.0247 - val_accuracy: 0.9926\n",
      "Epoch 16/1000\n",
      "487/487 [==============================] - 56s 115ms/step - loss: 0.0151 - accuracy: 0.9967 - val_loss: 0.0200 - val_accuracy: 0.9940\n",
      "Epoch 17/1000\n",
      "487/487 [==============================] - 56s 115ms/step - loss: 0.0127 - accuracy: 0.9968 - val_loss: 0.0219 - val_accuracy: 0.9949\n",
      "Epoch 18/1000\n",
      "487/487 [==============================] - 56s 115ms/step - loss: 0.0066 - accuracy: 0.9991 - val_loss: 0.0148 - val_accuracy: 0.9958\n",
      "Epoch 19/1000\n",
      "487/487 [==============================] - 56s 115ms/step - loss: 0.0114 - accuracy: 0.9977 - val_loss: 0.0119 - val_accuracy: 0.9966\n",
      "Epoch 20/1000\n",
      "487/487 [==============================] - 56s 115ms/step - loss: 0.0071 - accuracy: 0.9988 - val_loss: 0.0223 - val_accuracy: 0.9933\n",
      "Epoch 21/1000\n",
      "487/487 [==============================] - 56s 115ms/step - loss: 0.0062 - accuracy: 0.9988 - val_loss: 0.0165 - val_accuracy: 0.9949\n",
      "Epoch 22/1000\n",
      "487/487 [==============================] - 57s 117ms/step - loss: 0.0085 - accuracy: 0.9977 - val_loss: 0.0388 - val_accuracy: 0.9900\n",
      "Epoch 23/1000\n",
      "487/487 [==============================] - 57s 117ms/step - loss: 0.0074 - accuracy: 0.9983 - val_loss: 0.0215 - val_accuracy: 0.9940\n",
      "Epoch 24/1000\n",
      "487/487 [==============================] - 56s 115ms/step - loss: 0.0042 - accuracy: 0.9993 - val_loss: 0.0100 - val_accuracy: 0.9971\n",
      "Epoch 25/1000\n",
      "487/487 [==============================] - 55s 114ms/step - loss: 0.0063 - accuracy: 0.9984 - val_loss: 0.0262 - val_accuracy: 0.9926\n",
      "Epoch 26/1000\n",
      "487/487 [==============================] - 56s 114ms/step - loss: 0.0061 - accuracy: 0.9984 - val_loss: 0.0181 - val_accuracy: 0.9952\n",
      "Epoch 27/1000\n",
      "487/487 [==============================] - 56s 114ms/step - loss: 0.0037 - accuracy: 0.9993 - val_loss: 0.0119 - val_accuracy: 0.9974\n",
      "Epoch 28/1000\n",
      "487/487 [==============================] - 56s 115ms/step - loss: 0.0038 - accuracy: 0.9993 - val_loss: 0.0102 - val_accuracy: 0.9971\n",
      "Epoch 29/1000\n",
      "487/487 [==============================] - 56s 115ms/step - loss: 0.0080 - accuracy: 0.9977 - val_loss: 0.0221 - val_accuracy: 0.9942\n",
      "Epoch 30/1000\n",
      "487/487 [==============================] - 56s 115ms/step - loss: 0.0038 - accuracy: 0.9989 - val_loss: 0.0441 - val_accuracy: 0.9875\n",
      "Epoch 31/1000\n",
      "487/487 [==============================] - 56s 114ms/step - loss: 0.0056 - accuracy: 0.9984 - val_loss: 0.0204 - val_accuracy: 0.9939\n",
      "Epoch 32/1000\n",
      "487/487 [==============================] - 56s 114ms/step - loss: 0.0023 - accuracy: 0.9995 - val_loss: 0.0094 - val_accuracy: 0.9973\n",
      "Epoch 33/1000\n",
      "487/487 [==============================] - 56s 114ms/step - loss: 0.0030 - accuracy: 0.9994 - val_loss: 0.0121 - val_accuracy: 0.9963\n",
      "Epoch 34/1000\n",
      "487/487 [==============================] - 56s 115ms/step - loss: 0.0023 - accuracy: 0.9996 - val_loss: 0.0243 - val_accuracy: 0.9942\n",
      "Epoch 35/1000\n",
      "487/487 [==============================] - 56s 115ms/step - loss: 0.0022 - accuracy: 0.9996 - val_loss: 0.0567 - val_accuracy: 0.9844\n",
      "Epoch 36/1000\n",
      "487/487 [==============================] - 56s 114ms/step - loss: 0.0049 - accuracy: 0.9988 - val_loss: 0.0093 - val_accuracy: 0.9970\n",
      "Epoch 37/1000\n",
      "487/487 [==============================] - 56s 114ms/step - loss: 0.0043 - accuracy: 0.9988 - val_loss: 0.0082 - val_accuracy: 0.9980\n",
      "Epoch 38/1000\n",
      "487/487 [==============================] - 56s 115ms/step - loss: 0.0038 - accuracy: 0.9990 - val_loss: 0.0080 - val_accuracy: 0.9978\n",
      "Epoch 39/1000\n",
      "487/487 [==============================] - 56s 115ms/step - loss: 0.0021 - accuracy: 0.9995 - val_loss: 0.0063 - val_accuracy: 0.9983\n",
      "Epoch 40/1000\n",
      "487/487 [==============================] - 56s 114ms/step - loss: 0.0011 - accuracy: 0.9999 - val_loss: 0.0074 - val_accuracy: 0.9982\n",
      "Epoch 41/1000\n",
      "487/487 [==============================] - 56s 116ms/step - loss: 0.0024 - accuracy: 0.9994 - val_loss: 0.0133 - val_accuracy: 0.9969\n",
      "Epoch 42/1000\n",
      "487/487 [==============================] - 57s 116ms/step - loss: 0.0051 - accuracy: 0.9986 - val_loss: 0.0149 - val_accuracy: 0.9956\n",
      "Epoch 43/1000\n",
      "487/487 [==============================] - 56s 115ms/step - loss: 0.0024 - accuracy: 0.9994 - val_loss: 0.0123 - val_accuracy: 0.9965\n",
      "Epoch 44/1000\n",
      "487/487 [==============================] - 55s 114ms/step - loss: 0.0021 - accuracy: 0.9995 - val_loss: 0.0679 - val_accuracy: 0.9811\n",
      "Epoch 45/1000\n",
      "487/487 [==============================] - 56s 114ms/step - loss: 0.0052 - accuracy: 0.9986 - val_loss: 0.0088 - val_accuracy: 0.9977\n",
      "Epoch 46/1000\n",
      "487/487 [==============================] - 56s 114ms/step - loss: 0.0015 - accuracy: 0.9997 - val_loss: 0.0162 - val_accuracy: 0.9956\n",
      "Epoch 47/1000\n",
      "487/487 [==============================] - 56s 114ms/step - loss: 0.0035 - accuracy: 0.9992 - val_loss: 0.0208 - val_accuracy: 0.9953\n",
      "Epoch 48/1000\n",
      "487/487 [==============================] - 56s 114ms/step - loss: 0.0014 - accuracy: 0.9999 - val_loss: 0.0099 - val_accuracy: 0.9977\n",
      "Epoch 49/1000\n",
      "487/487 [==============================] - 56s 114ms/step - loss: 0.0027 - accuracy: 0.9993 - val_loss: 0.0141 - val_accuracy: 0.9965\n"
     ]
    }
   ],
   "source": [
    "print('Training model 1')\n",
    "opt = Adam(learning_rate=0.00001)\n",
    "earlystopping = callbacks.EarlyStopping(monitor=\"val_loss\", patience = 10, restore_best_weights = True)\n",
    "model1.compile(optimizer=opt,loss='categorical_crossentropy',metrics=['accuracy'])\n",
    "# model1.summary()\n",
    "\n",
    "\n",
    "\n",
    "history_const = model1.fit(X_train, y_train,batch_size=50, epochs = 1000, validation_data=(X_test,y_test),\n",
    "                   callbacks= [earlystopping])\n"
   ]
  },
  {
   "cell_type": "code",
   "execution_count": 17,
   "id": "7d5b72d6",
   "metadata": {},
   "outputs": [
    {
     "name": "stdout",
     "output_type": "stream",
     "text": [
      "Saving\n",
      "saved\n"
     ]
    }
   ],
   "source": [
    "print('Saving')\n",
    "np.save(load_path+model_name1+'_history.npy',history_const.history)\n",
    "model1.save(load_path+model_name1+'_model.h5') \n",
    "print(\"saved\")"
   ]
  },
  {
   "cell_type": "code",
   "execution_count": null,
   "id": "f40f84c9",
   "metadata": {},
   "outputs": [],
   "source": [
    "# #load saved history\n",
    "history_const=np.load(load_path+model_name1+'_history.npy',allow_pickle='TRUE').item()\n",
    "\n",
    "# #load saved model\n",
    "model1=load_model(load_path+model_name1+'_model.h5')\n",
    "\n",
    "print(\"loaded\")"
   ]
  },
  {
   "cell_type": "code",
   "execution_count": 18,
   "id": "caf213f3",
   "metadata": {},
   "outputs": [
    {
     "name": "stdout",
     "output_type": "stream",
     "text": [
      "Plots\n"
     ]
    },
    {
     "data": {
      "image/png": "[encoded data removed]",
      "text/plain": [
       "<Figure size 432x288 with 1 Axes>"
      ]
     },
     "metadata": {
      "needs_background": "light"
     },
     "output_type": "display_data"
    },
    {
     "data": {
      "image/png": "[encoded data removed]",
      "text/plain": [
       "<Figure size 432x288 with 1 Axes>"
      ]
     },
     "metadata": {
      "needs_background": "light"
     },
     "output_type": "display_data"
    }
   ],
   "source": [
    "print('Plots')\n",
    "plt.plot(history_const.history['loss'])\n",
    "plt.plot(history_const.history['val_loss'])\n",
    "plt.title('model loss')\n",
    "plt.ylabel('loss')\n",
    "plt.xlabel('epoch')\n",
    "plt.legend(['train', 'val'], loc='upper left')\n",
    "# plt.savefig('F:/VA/onehandtwohand/26words_DSLR_results/'+model_name1+'_loss.png')\n",
    "plt.savefig(load_path+model_name1+'_loss.png')\n",
    "plt.show()\n",
    "plt.plot(history_const.history['accuracy'])\n",
    "plt.plot(history_const.history['val_accuracy'])\n",
    "plt.title('model accuracy')\n",
    "plt.ylabel('accuracy')\n",
    "\n",
    "plt.xlabel('epoch')\n",
    "plt.legend(['train', 'val'], loc='upper left')\n",
    "plt.savefig(load_path+model_name1+'_accuracy.png')\n",
    "plt.show()"
   ]
  },
  {
   "cell_type": "code",
   "execution_count": null,
   "id": "4006fd26",
   "metadata": {},
   "outputs": [],
   "source": [
    "print('Confusion matrix')\n",
    "Y_pred = model1.predict(X_new)\n",
    "y_pred = np.argmax(Y_pred, axis=1)\n",
    "y_test1 = np.argmax(y_new, axis=1)\n",
    "\n",
    "cm=metrics.confusion_matrix(y_test1, y_pred)\n",
    "\n",
    "\n",
    "cm = cm.astype('float') / cm.sum(axis=1)[:, np.newaxis]\n",
    "a4_dims = (200, 100)\n",
    "fig,ax= plt.subplots(figsize=a4_dims)\n",
    "sns.heatmap(cm, annot=True, fmt=\".2f\", ax=ax,  linewidth=.5);  \n",
    "ax.set_xlabel('Predicted labels');ax.set_ylabel('True labels'); \n",
    "ax.set_title('Confusion Matrix'); \n",
    "ax.set_xticklabels(CATEGORIES)\n",
    "ax.set_yticklabels(CATEGORIES)\n",
    "plt.xlabel('Predicted')\n",
    "plt.ylabel('True')\n",
    "plt.setp(ax.get_xticklabels(), rotation=90, horizontalalignment='right')\n",
    "plt.setp(ax.get_yticklabels(), rotation=0, horizontalalignment='right')\n",
    "plt.savefig(load_path+model_name1+'_cm.png',bbox_inches='tight')\n",
    "plt.show()\n"
   ]
  },
  {
   "cell_type": "code",
   "execution_count": null,
   "id": "c57902f0",
   "metadata": {},
   "outputs": [],
   "source": [
    "#PLot fractional incorrect misclassifications\n",
    "\n",
    "incorr_fraction = 1 - np.diag(cm) / np.sum(cm, axis=1)\n",
    "\n",
    "fig, ax = plt.subplots(figsize=(12,8))\n",
    "plt.bar(np.arange(cat_len), incorr_fraction)\n",
    "plt.xlabel('True Label')\n",
    "plt.ylabel('Fraction of incorrect predictions')\n",
    "plt.xticks(np.arange(cat_len), CATEGORIES)\n",
    "plt.savefig(load_path+model_name1+'_incorrect_percentage.png',bbox_inches='tight')\n",
    "plt.show()"
   ]
  },
  {
   "cell_type": "code",
   "execution_count": null,
   "id": "c596ec0b",
   "metadata": {},
   "outputs": [],
   "source": [
    "#CHECK RANDOM IMAGES FROM TESTED DATA WHETHER RIGHT OR WRONG\n",
    "\n",
    "i = random.randint(1,cat_len)\n",
    "plt.imshow(X_new[i,:,:,2]) \n",
    "print(\"Predicted Label: \", CATEGORIES[int(y_pred[i])])\n",
    "print(\"True Label: \", CATEGORIES[int(y_test1[i])])"
   ]
  },
  {
   "cell_type": "code",
   "execution_count": null,
   "id": "13fc757b",
   "metadata": {},
   "outputs": [],
   "source": []
  },
  {
   "cell_type": "markdown",
   "id": "794a50d2",
   "metadata": {},
   "source": [
    "# Colourful mediapipe testing with VA_create_3.0"
   ]
  },
  {
   "cell_type": "code",
   "execution_count": null,
   "id": "f40106c2",
   "metadata": {},
   "outputs": [],
   "source": [
    "import cv2\n",
    "import mediapipe as mp\n",
    "mp_drawing = mp.solutions.drawing_utils\n",
    "mp_drawing_styles = mp.solutions.drawing_styles\n",
    "mp_holistic = mp.solutions.holistic # Holistic model\n",
    "mp_drawing = mp.solutions.drawing_utils # Drawing utilities\n",
    "\n",
    "def mediapipe_detection(image, model):\n",
    "    image = cv2.cvtColor(image, cv2.COLOR_BGR2RGB) # COLOR CONVERSION BGR 2 RGB\n",
    "    image.flags.writeable = False                  # Image is no longer writeable\n",
    "    results = model.process(image)                 # Make prediction\n",
    "    image.flags.writeable = True                   # Image is now writeable \n",
    "    image = cv2.cvtColor(image, cv2.COLOR_RGB2BGR) # COLOR COVERSION RGB 2 BGR\n",
    "    return image, results\n",
    "    \n",
    "def draw_landmarks(image, results):   \n",
    "    #face\n",
    "    mp_drawing.draw_landmarks(\n",
    "        image,\n",
    "        results.face_landmarks,\n",
    "        mp_holistic.FACEMESH_CONTOURS,\n",
    "        landmark_drawing_spec=None,\n",
    "        connection_drawing_spec=mp_drawing_styles\n",
    "        .get_default_face_mesh_contours_style())\n",
    "#     #pose\n",
    "#     mp_drawing.draw_landmarks(\n",
    "#         image,\n",
    "#         results.pose_landmarks,\n",
    "#         mp_holistic.POSE_CONNECTIONS,\n",
    "#         landmark_drawing_spec=mp_drawing_styles\n",
    "#         .get_default_pose_landmarks_style())\n",
    "    \n",
    "    #left hand\n",
    "    mp_drawing.draw_landmarks(\n",
    "        image,\n",
    "        results.left_hand_landmarks,\n",
    "        mp_holistic.HAND_CONNECTIONS,\n",
    "#         landmark_drawing_spec=None,\n",
    "            mp_drawing_styles.get_default_hand_landmarks_style(),\n",
    "            mp_drawing_styles.get_default_hand_connections_style())\n",
    "    # right hand\n",
    "    mp_drawing.draw_landmarks(\n",
    "        image,\n",
    "        results.right_hand_landmarks,\n",
    "        mp_holistic.HAND_CONNECTIONS,\n",
    "#         landmark_drawing_spec=None,\n",
    "            mp_drawing_styles.get_default_hand_landmarks_style(),\n",
    "            mp_drawing_styles.get_default_hand_connections_style())"
   ]
  },
  {
   "cell_type": "code",
   "execution_count": null,
   "id": "3a1bc8fa",
   "metadata": {},
   "outputs": [],
   "source": [
    "## For veryyyyyyyy beautiful webcam input:\n",
    "\n",
    "cap = cv2.VideoCapture(0)\n",
    "org = (20, 20)  \n",
    "org1 = (310, 20) \n",
    "fontScale = 0.65  \n",
    "font = cv2.FONT_HERSHEY_SIMPLEX\n",
    "# Blue color in BGR\n",
    "color = (130, 0, 0)  \n",
    "# Line thickness of 2 px\n",
    "thickness = 1 \n",
    "thickness1 = -1\n",
    "start_point = (0,0)\n",
    "end_point = (480,30)\n",
    "color1 = (255, 255, 255)  \n",
    "cls='R'\n",
    "with mp_holistic.Holistic(min_detection_confidence=0.5,min_tracking_confidence=0.5) as holistic:\n",
    "      while cap.isOpened():\n",
    "        #image from feeder\n",
    "        r, img_array = cap.read()\n",
    "        img_array = cv2.flip(img_array, 1)\n",
    "        #webcam\n",
    "        img_array = img_array[:, 80:560, :]\n",
    "        #dslr\n",
    "#         img_array = cv2.resize(img_array[:, 224:800, :],(480,480))\n",
    "        \n",
    "        image, results = mediapipe_detection(img_array, holistic)\n",
    "        draw_landmarks(image, results)\n",
    "        if not (results.left_hand_landmarks or results.right_hand_landmarks):\n",
    "            continue\n",
    "\n",
    "        # white background\n",
    "        img = np.zeros([480,480,3],dtype=np.uint8)\n",
    "        img.fill(255) \n",
    "        draw_landmarks(img, results)\n",
    "\n",
    "        # for prediction\n",
    "        IMG_SIZE=128\n",
    "        img = cv2.resize(img, (IMG_SIZE, IMG_SIZE))\n",
    "        X = np.array(img).reshape(-1, IMG_SIZE, IMG_SIZE, 3)\n",
    "        X = X.astype('float32')\n",
    "        X /= 255\n",
    "        X = np.array(X)\n",
    "        Y = model1.predict(X,verbose=0)\n",
    "\n",
    "        if np.max(Y)>0.2:\n",
    "            # for display\n",
    "            image = cv2.rectangle(image, start_point, end_point, color1, thickness1)\n",
    "            image = cv2.rectangle(image, (0,30), (480,30), color, 2)\n",
    "            image = cv2.putText(image,\"Prediction: \"+ CATEGORIES[np.argmax(Y)], org, font, \n",
    "                   fontScale, color, thickness, cv2.LINE_AA)\n",
    "            image = cv2.putText(image,\"Accuracy: \"+ \"%.2f\" % np.max(Y), org1, font, \n",
    "                   fontScale, color, thickness, cv2.LINE_AA)\n",
    "            if CATEGORIES[np.argmax(Y)]==cls:\n",
    "                cv2.imwrite(load_path+'/15layer_99.82_test_images/mp_'+\n",
    "                            CATEGORIES[np.argmax(Y)]+'_'+str(np.max(Y))+'.jpg',image)\n",
    "                cv2.imwrite(load_path+'/15layer_99.82_test_images/ori_'+\n",
    "                            CATEGORIES[np.argmax(Y)]+'_'+str(np.max(Y))+'.jpg',img_array)\n",
    "\n",
    "\n",
    "        cv2.imshow('Realtime testing', image)\n",
    "\n",
    "        if cv2.waitKey(10) & 0xFF == ord('q'):\n",
    "                break\n",
    "# close the camera\n",
    "cap.release()\n",
    "\n",
    "# close all the opened windows\n",
    "cv2.destroyAllWindows()"
   ]
  },
  {
   "cell_type": "code",
   "execution_count": null,
   "id": "91c88845",
   "metadata": {},
   "outputs": [],
   "source": []
  },
  {
   "cell_type": "code",
   "execution_count": null,
   "id": "4b8a99bd",
   "metadata": {},
   "outputs": [],
   "source": []
  }
 ],
 "metadata": {
  "kernelspec": {
   "display_name": "Python 3 (ipykernel)",
   "language": "python",
   "name": "python3"
  },
  "language_info": {
   "codemirror_mode": {
    "name": "ipython",
    "version": 3
   },
   "file_extension": ".py",
   "mimetype": "text/x-python",
   "name": "python",
   "nbconvert_exporter": "python",
   "pygments_lexer": "ipython3",
   "version": "3.9.7"
  }
 },
 "nbformat": 4,
 "nbformat_minor": 5
}
