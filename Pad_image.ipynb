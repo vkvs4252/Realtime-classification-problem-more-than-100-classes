{
 "cells": [
  {
   "cell_type": "code",
   "execution_count": 1,
   "id": "3d5c03e8",
   "metadata": {},
   "outputs": [
    {
     "ename": "error",
     "evalue": "OpenCV(4.6.0) D:\\a\\opencv-python\\opencv-python\\opencv\\modules\\imgproc\\src\\color.cpp:182: error: (-215:Assertion failed) !_src.empty() in function 'cv::cvtColor'\n",
     "output_type": "error",
     "traceback": [
      "\u001b[1;31m---------------------------------------------------------------------------\u001b[0m",
      "\u001b[1;31merror\u001b[0m                                     Traceback (most recent call last)",
      "Cell \u001b[1;32mIn[1], line 21\u001b[0m\n\u001b[0;32m     19\u001b[0m new_image \u001b[38;5;241m=\u001b[39m new_image\u001b[38;5;241m.\u001b[39msave(load_path2\u001b[38;5;241m+\u001b[39m\u001b[38;5;124m\"\u001b[39m\u001b[38;5;124mmassey2.png\u001b[39m\u001b[38;5;124m\"\u001b[39m)\n\u001b[0;32m     20\u001b[0m \u001b[38;5;66;03m# open_cv_image = numpy.array(new_image) \u001b[39;00m\n\u001b[1;32m---> 21\u001b[0m im_bgr \u001b[38;5;241m=\u001b[39m \u001b[43mcv2\u001b[49m\u001b[38;5;241;43m.\u001b[39;49m\u001b[43mcvtColor\u001b[49m\u001b[43m(\u001b[49m\u001b[43mnew_image\u001b[49m\u001b[43m,\u001b[49m\u001b[43m \u001b[49m\u001b[43mcv2\u001b[49m\u001b[38;5;241;43m.\u001b[39;49m\u001b[43mCOLOR_RGB2BGR\u001b[49m\u001b[43m)\u001b[49m\n\u001b[0;32m     22\u001b[0m cv2\u001b[38;5;241m.\u001b[39mimwrite(\u001b[38;5;124m'\u001b[39m\u001b[38;5;124mD:/VA/000/\u001b[39m\u001b[38;5;124m'\u001b[39m\u001b[38;5;241m+\u001b[39m\u001b[38;5;124m'\u001b[39m\u001b[38;5;124mmassey.jpg\u001b[39m\u001b[38;5;124m'\u001b[39m,im_bgr)\n\u001b[0;32m     23\u001b[0m cv2\u001b[38;5;241m.\u001b[39mimshow(\u001b[38;5;124m\"\u001b[39m\u001b[38;5;124mr\u001b[39m\u001b[38;5;124m\"\u001b[39m,im_bgr)\n",
      "\u001b[1;31merror\u001b[0m: OpenCV(4.6.0) D:\\a\\opencv-python\\opencv-python\\opencv\\modules\\imgproc\\src\\color.cpp:182: error: (-215:Assertion failed) !_src.empty() in function 'cv::cvtColor'\n"
     ]
    }
   ],
   "source": [
    "from PIL import Image\n",
    "import numpy\n",
    "import cv2\n",
    "def make_square(im, min_size=480, fill_color=(0, 0, 0, 0)):\n",
    "    x, y = im.size\n",
    "    size = max(min_size, x, y)\n",
    "    new_im = Image.new('RGB', (size, size), fill_color) #background\n",
    "    new_im.paste(im, (int((size - x) / 2), int((size - y) / 2))) # paste on background at cordinate centre cordinates of im\n",
    "    return new_im\n",
    "\n",
    "load_path='D:/VA/standard dataset/handgesturedataset_part1/' \n",
    "load_path2=\"D:/VA/000/\"#D:\\VA\\31words_DSLR\\black\n",
    "load_path=load_path+'hand1_0_bot_seg_1_cropped.png'\n",
    "\n",
    "\n",
    "\n",
    "test_image = Image.open(load_path)\n",
    "new_image = make_square(test_image)\n",
    "new_image = new_image.save(load_path2+\"massey2.png\")\n",
    "# open_cv_image = numpy.array(new_image) \n",
    "im_bgr = cv2.cvtColor(new_image, cv2.COLOR_RGB2BGR)\n",
    "cv2.imwrite('D:/VA/000/'+'massey.jpg',im_bgr)\n",
    "cv2.imshow(\"r\",im_bgr)\n",
    "\n",
    "new_image.show()\n"
   ]
  },
  {
   "cell_type": "code",
   "execution_count": 2,
   "id": "3f90e473",
   "metadata": {},
   "outputs": [
    {
     "ename": "AttributeError",
     "evalue": "'NoneType' object has no attribute 'shape'",
     "output_type": "error",
     "traceback": [
      "\u001b[1;31m---------------------------------------------------------------------------\u001b[0m",
      "\u001b[1;31mAttributeError\u001b[0m                            Traceback (most recent call last)",
      "Cell \u001b[1;32mIn[2], line 14\u001b[0m\n\u001b[0;32m     11\u001b[0m load_path\u001b[38;5;241m=\u001b[39mload_path\u001b[38;5;241m+\u001b[39m\u001b[38;5;124m'\u001b[39m\u001b[38;5;124mhand1_0_bot_seg_1_cropped.png\u001b[39m\u001b[38;5;124m'\u001b[39m\n\u001b[0;32m     13\u001b[0m img \u001b[38;5;241m=\u001b[39m cv2\u001b[38;5;241m.\u001b[39mimread(load_path)\n\u001b[1;32m---> 14\u001b[0m old_image_height, old_image_width, channels \u001b[38;5;241m=\u001b[39m \u001b[43mimg\u001b[49m\u001b[38;5;241;43m.\u001b[39;49m\u001b[43mshape\u001b[49m\n\u001b[0;32m     15\u001b[0m old_image_height, old_image_width, channels \u001b[38;5;241m=\u001b[39m img\u001b[38;5;241m.\u001b[39mshape\n\u001b[0;32m     17\u001b[0m \u001b[38;5;66;03m# create new image of desired size and color (blue) for padding\u001b[39;00m\n",
      "\u001b[1;31mAttributeError\u001b[0m: 'NoneType' object has no attribute 'shape'"
     ]
    }
   ],
   "source": [
    "#pad image using cv2\n",
    "\n",
    "\n",
    "import cv2\n",
    "import numpy as np\n",
    "\n",
    "# read image\n",
    "\n",
    "load_path='D:/VA/standard dataset/handgesturedataset_part1/' \n",
    "load_path2=\"D:/VA/000/\"#D:\\VA\\31words_DSLR\\black\n",
    "load_path=load_path+'hand1_0_bot_seg_1_cropped.png'\n",
    "\n",
    "img = cv2.imread(load_path)\n",
    "old_image_height, old_image_width, channels = img.shape\n",
    "\n",
    "# create new image of desired size and color (blue) for padding\n",
    "SIZE = 480\n",
    "color = (0,0,0)\n",
    "result = np.full((SIZE,SIZE, channels), color, dtype=np.uint8)\n",
    "\n",
    "# compute center offset\n",
    "x_center = (SIZE - old_image_width) // 2\n",
    "y_center = (SIZE - old_image_height) // 2\n",
    "\n",
    "# copy img image into center of result image\n",
    "result[y_center:y_center+old_image_height, \n",
    "       x_center:x_center+old_image_width] = img\n",
    "\n",
    "# view result\n",
    "cv2.imshow(\"result\", result)\n",
    "cv2.waitKey(0)\n",
    "cv2.destroyAllWindows()\n",
    "\n",
    "# save result\n",
    "cv2.imwrite(\"lena_centered.jpg\", result)"
   ]
  },
  {
   "cell_type": "code",
   "execution_count": null,
   "id": "1e13e6f5",
   "metadata": {},
   "outputs": [],
   "source": [
    "\n",
    "# import the modules\n",
    "import os\n",
    "from os import listdir\n",
    " \n",
    "# get the path/directory\n",
    "folder_dir = \"C:/Users/RIJUSHREE/Desktop/Gfg images\"\n",
    "for images in os.listdir(folder_dir):\n",
    " \n",
    "    # check if the image ends with png\n",
    "    if (images.endswith(\".png\")):\n",
    "        print(images)"
   ]
  }
 ],
 "metadata": {
  "kernelspec": {
   "display_name": "Python 3 (ipykernel)",
   "language": "python",
   "name": "python3"
  },
  "language_info": {
   "codemirror_mode": {
    "name": "ipython",
    "version": 3
   },
   "file_extension": ".py",
   "mimetype": "text/x-python",
   "name": "python",
   "nbconvert_exporter": "python",
   "pygments_lexer": "ipython3",
   "version": "3.9.7"
  }
 },
 "nbformat": 4,
 "nbformat_minor": 5
}
