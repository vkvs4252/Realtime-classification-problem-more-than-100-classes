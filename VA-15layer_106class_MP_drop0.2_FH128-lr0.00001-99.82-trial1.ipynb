{
 "cells": [
  {
   "cell_type": "code",
   "execution_count": 1,
   "id": "d962aad3",
   "metadata": {},
   "outputs": [],
   "source": [
    "import keras\n",
    "import tensorflow as tf\n",
    "from tensorflow.keras.preprocessing.image import ImageDataGenerator\n",
    "from tensorflow.keras.layers import Input, Conv2D, MaxPool2D, Dropout, BatchNormalization, Dense, Flatten, LayerNormalization\n",
    "from tensorflow.keras.models import Sequential, Model\n",
    "from tensorflow.keras.optimizers import Adam\n",
    "import tensorflow.keras.applications as appl\n",
    "from sklearn.model_selection import train_test_split\n",
    "import os\n",
    "import cv2\n",
    "import time\n",
    "import random\n",
    "import numpy as np\n",
    "import matplotlib.pyplot as plt\n",
    "import seaborn as sns\n",
    "import sklearn.metrics as metrics\n",
    "from tqdm import tqdm\n",
    "from tensorflow.keras.utils import Sequence\n",
    "from keras import callbacks  \n",
    "from keras.models import load_model\n",
    "from keras.utils import np_utils"
   ]
  },
  {
   "cell_type": "code",
   "execution_count": 2,
   "id": "13774f1e",
   "metadata": {},
   "outputs": [],
   "source": [
    "load_path='E:/VA/onehandtwohand/128/106words_DSLR_FH/'"
   ]
  },
  {
   "cell_type": "code",
   "execution_count": 3,
   "id": "edaddf29",
   "metadata": {},
   "outputs": [],
   "source": [
    "CATEGORIES=np.load(load_path+'cat_106.npy', allow_pickle=True)"
   ]
  },
  {
   "cell_type": "code",
   "execution_count": 4,
   "id": "659cb729",
   "metadata": {},
   "outputs": [],
   "source": [
    "IMG_SIZE=128"
   ]
  },
  {
   "cell_type": "code",
   "execution_count": 5,
   "id": "12d7e2d6",
   "metadata": {},
   "outputs": [
    {
     "name": "stdout",
     "output_type": "stream",
     "text": [
      "106\n"
     ]
    }
   ],
   "source": [
    "cat_len=len(CATEGORIES)\n",
    "print(cat_len)"
   ]
  },
  {
   "cell_type": "markdown",
   "id": "cc104aa6",
   "metadata": {},
   "source": [
    "# Save combined data npy"
   ]
  },
  {
   "cell_type": "code",
   "execution_count": 7,
   "id": "d4dd8029",
   "metadata": {},
   "outputs": [],
   "source": [
    "# model\n",
    "\n",
    "# model_name1 = 'InceptionResNetV2'\n",
    "# model_name1 = '4layer'\n",
    "model_name1 = '15layer_lr0.00001_106words_dslr128_99.82'\n",
    "#model_name2 = 'VGG16'\n",
    "# model_name1 = 'DenseNet121'\n",
    "# model_name1 = 'InceptionV3'"
   ]
  },
  {
   "cell_type": "markdown",
   "id": "fa37bec1",
   "metadata": {},
   "source": [
    "Loading"
   ]
  },
  {
   "cell_type": "code",
   "execution_count": 8,
   "id": "0def0f5d",
   "metadata": {},
   "outputs": [],
   "source": [
    "X=np.load(load_path+'X_dslr.npy', allow_pickle=True)\n",
    "Y=np.load(load_path+'Y_dslr.npy', allow_pickle=True)"
   ]
  },
  {
   "cell_type": "code",
   "execution_count": 9,
   "id": "bac9e4e1",
   "metadata": {},
   "outputs": [],
   "source": [
    "X = X.astype('float32')\n",
    "X /= 255\n"
   ]
  },
  {
   "cell_type": "code",
   "execution_count": 10,
   "id": "89586ad1",
   "metadata": {},
   "outputs": [
    {
     "name": "stdout",
     "output_type": "stream",
     "text": [
      "Splitting\n",
      "pass\n"
     ]
    }
   ],
   "source": [
    "print('Splitting') \n",
    "X_train, X_test, y_train, y_test = train_test_split(X, Y, test_size = 0.3, random_state = cat_len)\n",
    "X_train, X_new, y_train, y_new = train_test_split(X_train, y_train, test_size = 0.2, random_state = cat_len)\n",
    "X_train = np.array(X_train)\n",
    "y_train = np.array(y_train)\n",
    "X_test = np.array(X_test)\n",
    "y_test = np.array(y_test)\n",
    "X_new = np.array(X_new)\n",
    "y_new = np.array(y_new)\n",
    "\n",
    "print(\"pass\")"
   ]
  },
  {
   "cell_type": "code",
   "execution_count": 11,
   "id": "f26320e2",
   "metadata": {},
   "outputs": [],
   "source": [
    "del X,Y"
   ]
  },
  {
   "cell_type": "code",
   "execution_count": 12,
   "id": "f75aadef",
   "metadata": {},
   "outputs": [
    {
     "name": "stdout",
     "output_type": "stream",
     "text": [
      "Image Data Augmentation\n",
      "done\n"
     ]
    }
   ],
   "source": [
    "print('Image Data Augmentation')\n",
    "from keras.preprocessing.image import ImageDataGenerator\n",
    "val_generator = ImageDataGenerator(rotation_range=0, zoom_range=0.2, width_shift_range=0.2,\n",
    "    height_shift_range=0.2, shear_range=0.2)\n",
    "#                                     , horizontal_flip=True, brightness_range=[0.6,1.3])\n",
    "val_generator.fit(X_train)\n",
    "val_generator.fit(X_new)\n",
    "val_generator.fit(X_test)\n",
    "\n",
    "print(\"done\")"
   ]
  },
  {
   "cell_type": "code",
   "execution_count": 13,
   "id": "48682243",
   "metadata": {},
   "outputs": [
    {
     "name": "stdout",
     "output_type": "stream",
     "text": [
      "Model: \"sequential\"\n",
      "_________________________________________________________________\n",
      " Layer (type)                Output Shape              Param #   \n",
      "=================================================================\n",
      " conv2d (Conv2D)             (None, 128, 128, 32)      2432      \n",
      "                                                                 \n",
      " batch_normalization (BatchN  (None, 128, 128, 32)     128       \n",
      " ormalization)                                                   \n",
      "                                                                 \n",
      " conv2d_1 (Conv2D)           (None, 128, 128, 32)      25632     \n",
      "                                                                 \n",
      " conv2d_2 (Conv2D)           (None, 128, 128, 64)      51264     \n",
      "                                                                 \n",
      " max_pooling2d (MaxPooling2D  (None, 64, 64, 64)       0         \n",
      " )                                                               \n",
      "                                                                 \n",
      " batch_normalization_1 (Batc  (None, 64, 64, 64)       256       \n",
      " hNormalization)                                                 \n",
      "                                                                 \n",
      " conv2d_3 (Conv2D)           (None, 64, 64, 64)        102464    \n",
      "                                                                 \n",
      " conv2d_4 (Conv2D)           (None, 64, 64, 128)       204928    \n",
      "                                                                 \n",
      " batch_normalization_2 (Batc  (None, 64, 64, 128)      512       \n",
      " hNormalization)                                                 \n",
      "                                                                 \n",
      " conv2d_5 (Conv2D)           (None, 64, 64, 128)       409728    \n",
      "                                                                 \n",
      " max_pooling2d_1 (MaxPooling  (None, 32, 32, 128)      0         \n",
      " 2D)                                                             \n",
      "                                                                 \n",
      " conv2d_6 (Conv2D)           (None, 32, 32, 256)       819456    \n",
      "                                                                 \n",
      " batch_normalization_3 (Batc  (None, 32, 32, 256)      1024      \n",
      " hNormalization)                                                 \n",
      "                                                                 \n",
      " conv2d_7 (Conv2D)           (None, 32, 32, 512)       3277312   \n",
      "                                                                 \n",
      " conv2d_8 (Conv2D)           (None, 32, 32, 256)       1179904   \n",
      "                                                                 \n",
      " max_pooling2d_2 (MaxPooling  (None, 16, 16, 256)      0         \n",
      " 2D)                                                             \n",
      "                                                                 \n",
      " batch_normalization_4 (Batc  (None, 16, 16, 256)      1024      \n",
      " hNormalization)                                                 \n",
      "                                                                 \n",
      " conv2d_9 (Conv2D)           (None, 16, 16, 128)       295040    \n",
      "                                                                 \n",
      " conv2d_10 (Conv2D)          (None, 16, 16, 64)        73792     \n",
      "                                                                 \n",
      " conv2d_11 (Conv2D)          (None, 16, 16, 32)        18464     \n",
      "                                                                 \n",
      " max_pooling2d_3 (MaxPooling  (None, 8, 8, 32)         0         \n",
      " 2D)                                                             \n",
      "                                                                 \n",
      " flatten (Flatten)           (None, 2048)              0         \n",
      "                                                                 \n",
      " dense (Dense)               (None, 2048)              4196352   \n",
      "                                                                 \n",
      " dropout (Dropout)           (None, 2048)              0         \n",
      "                                                                 \n",
      " dense_1 (Dense)             (None, 1024)              2098176   \n",
      "                                                                 \n",
      " dropout_1 (Dropout)         (None, 1024)              0         \n",
      "                                                                 \n",
      " dense_2 (Dense)             (None, 106)               108650    \n",
      "                                                                 \n",
      "=================================================================\n",
      "Total params: 12,866,538\n",
      "Trainable params: 12,865,066\n",
      "Non-trainable params: 1,472\n",
      "_________________________________________________________________\n"
     ]
    }
   ],
   "source": [
    "\n",
    "#layers:15\n",
    "#change:added batchnorm:+5, layernorm: +`1,learning_rate=0.00001\n",
    "# # output: valacc:  acc:  %, val_loss:\n",
    "\n",
    "model = Sequential()\n",
    "\n",
    "model.add(Conv2D(32, (5, 5), input_shape = (IMG_SIZE,IMG_SIZE,3), padding='same', activation='relu'))         #1\n",
    "# model.add(MaxPool2D(pool_size = (2, 2),strides=2,padding='same'))\n",
    "# model.add(Dropout(0.30))\n",
    "\n",
    "model.add(BatchNormalization())\n",
    "\n",
    "model.add(Conv2D(32, (5, 5), padding='same', activation='relu'))                                              #2\n",
    "# model.add(MaxPool2D(pool_size = (2, 2),strides=2,padding='same'))\n",
    "# model.add(Dropout(0.30))\n",
    "\n",
    "\n",
    "model.add(Conv2D(64, (5, 5), padding='same', activation='relu'))                                              #2\n",
    "model.add(MaxPool2D(pool_size = (2, 2),strides=2,padding='same'))\n",
    "# model.add(Dropout(0.30))\n",
    "\n",
    "model.add(BatchNormalization())\n",
    "\n",
    "model.add(Conv2D(64, (5, 5), padding='same', activation='relu'))                                              #2\n",
    "# model.add(MaxPool2D(pool_size = (2, 2),strides=2,padding='same'))\n",
    "# model.add(Dropout(0.30))\n",
    "\n",
    "model.add(Conv2D(128, (5, 5), padding='same', activation='relu'))                                              #3\n",
    "# model.add(MaxPool2D(pool_size = (2, 2),strides=2,padding='same'))\n",
    "# model.add(Dropout(0.30))\n",
    "\n",
    "model.add(BatchNormalization())\n",
    "\n",
    "model.add(Conv2D(128, (5, 5), padding='same', activation='relu'))                                              #4\n",
    "model.add(MaxPool2D(pool_size = (2, 2),strides=2,padding='same'))\n",
    "# model.add(Dropout(0.30))\n",
    "\n",
    "model.add(Conv2D(256, (5, 5), padding='same', activation='relu'))                                              #5\n",
    "# model.add(MaxPool2D(pool_size = (2, 2),strides=2,padding='same'))\n",
    "# model.add(Dropout(0.30))\n",
    "\n",
    "model.add(BatchNormalization())\n",
    "\n",
    "model.add(Conv2D(512, (5, 5), padding='same', activation='relu'))                                              #6\n",
    "# model.add(MaxPool2D(pool_size = (2, 2),strides=2,padding='same'))\n",
    "# model.add(Dropout(0.30))\n",
    "\n",
    "model.add(Conv2D(256, (3, 3), padding='same', activation='relu'))                                             #7\n",
    "model.add(MaxPool2D(pool_size = (2, 2),strides=2,padding='same'))\n",
    "# model.add(Dropout(0.20))\n",
    "\n",
    "model.add(BatchNormalization())\n",
    "\n",
    "model.add(Conv2D(128, (3, 3), padding='same', activation='relu'))                                             #8\n",
    "# model.add(MaxPool2D(pool_size = (2, 2),strides=2,padding='same'))\n",
    "# model.add(Dropout(0.30))\n",
    "\n",
    "model.add(Conv2D(64, (3, 3), padding='same', activation='relu'))                                              #2\n",
    "# model.add(MaxPool2D(pool_size = (2, 2),strides=2,padding='same'))\n",
    "# model.add(Dropout(0.30))\n",
    "\n",
    "# model.add(LayerNormalization())\n",
    "\n",
    "model.add(Conv2D(32, (3, 3), padding='same', activation='relu'))                                              #2\n",
    "model.add(MaxPool2D(pool_size = (2, 2),strides=2,padding='same'))\n",
    "# model.add(Dropout(0.30))\n",
    "\n",
    "model.add(Flatten())\n",
    "\n",
    "model.add(Dense(2048, activation = 'relu'))\n",
    "model.add(Dropout(0.20))\n",
    "model.add(Dense(1024, activation = 'relu'))\n",
    "model.add(Dropout(0.20))\n",
    "model.add(Dense(cat_len, activation = 'softmax'))                                               #11\n",
    "\n",
    "model1=model\n",
    "model1.summary()"
   ]
  },
  {
   "cell_type": "code",
   "execution_count": 14,
   "id": "9a88ad52",
   "metadata": {},
   "outputs": [
    {
     "name": "stdout",
     "output_type": "stream",
     "text": [
      "Training model 1\n",
      "Epoch 1/1000\n",
      "487/487 [==============================] - 63s 113ms/step - loss: 3.1496 - accuracy: 0.2687 - val_loss: 4.3702 - val_accuracy: 0.0345\n",
      "Epoch 2/1000\n",
      "487/487 [==============================] - 48s 99ms/step - loss: 1.5064 - accuracy: 0.6004 - val_loss: 0.8056 - val_accuracy: 0.8177\n",
      "Epoch 3/1000\n",
      "487/487 [==============================] - 48s 99ms/step - loss: 0.7933 - accuracy: 0.7867 - val_loss: 0.3810 - val_accuracy: 0.9212\n",
      "Epoch 4/1000\n",
      "487/487 [==============================] - 48s 99ms/step - loss: 0.4257 - accuracy: 0.8864 - val_loss: 0.1875 - val_accuracy: 0.9614\n",
      "Epoch 5/1000\n",
      "487/487 [==============================] - 48s 99ms/step - loss: 0.2471 - accuracy: 0.9363 - val_loss: 0.1208 - val_accuracy: 0.9748\n",
      "Epoch 6/1000\n",
      "487/487 [==============================] - 48s 99ms/step - loss: 0.1515 - accuracy: 0.9621 - val_loss: 0.0783 - val_accuracy: 0.9813\n",
      "Epoch 7/1000\n",
      "487/487 [==============================] - 49s 100ms/step - loss: 0.1026 - accuracy: 0.9751 - val_loss: 0.0518 - val_accuracy: 0.9877\n",
      "Epoch 8/1000\n",
      "487/487 [==============================] - 49s 100ms/step - loss: 0.0688 - accuracy: 0.9846 - val_loss: 0.0379 - val_accuracy: 0.9921\n",
      "Epoch 9/1000\n",
      "487/487 [==============================] - 49s 100ms/step - loss: 0.0477 - accuracy: 0.9890 - val_loss: 0.0282 - val_accuracy: 0.9944\n",
      "Epoch 10/1000\n",
      "487/487 [==============================] - 48s 100ms/step - loss: 0.0387 - accuracy: 0.9912 - val_loss: 0.0305 - val_accuracy: 0.9915\n",
      "Epoch 11/1000\n",
      "487/487 [==============================] - 48s 100ms/step - loss: 0.0272 - accuracy: 0.9945 - val_loss: 0.0250 - val_accuracy: 0.9938\n",
      "Epoch 12/1000\n",
      "487/487 [==============================] - 48s 99ms/step - loss: 0.0217 - accuracy: 0.9956 - val_loss: 0.0170 - val_accuracy: 0.9959\n",
      "Epoch 13/1000\n",
      "487/487 [==============================] - 48s 99ms/step - loss: 0.0193 - accuracy: 0.9959 - val_loss: 0.0200 - val_accuracy: 0.9953\n",
      "Epoch 14/1000\n",
      "487/487 [==============================] - 48s 99ms/step - loss: 0.0149 - accuracy: 0.9968 - val_loss: 0.0178 - val_accuracy: 0.9958\n",
      "Epoch 15/1000\n",
      "487/487 [==============================] - 48s 99ms/step - loss: 0.0130 - accuracy: 0.9975 - val_loss: 0.0160 - val_accuracy: 0.9956\n",
      "Epoch 16/1000\n",
      "487/487 [==============================] - 49s 101ms/step - loss: 0.0103 - accuracy: 0.9979 - val_loss: 0.0225 - val_accuracy: 0.9949\n",
      "Epoch 17/1000\n",
      "487/487 [==============================] - 49s 100ms/step - loss: 0.0136 - accuracy: 0.9970 - val_loss: 0.0279 - val_accuracy: 0.9927\n",
      "Epoch 18/1000\n",
      "487/487 [==============================] - 48s 99ms/step - loss: 0.0114 - accuracy: 0.9975 - val_loss: 0.0140 - val_accuracy: 0.9968\n",
      "Epoch 19/1000\n",
      "487/487 [==============================] - 48s 99ms/step - loss: 0.0078 - accuracy: 0.9983 - val_loss: 0.0137 - val_accuracy: 0.9965\n",
      "Epoch 20/1000\n",
      "487/487 [==============================] - 48s 99ms/step - loss: 0.0083 - accuracy: 0.9984 - val_loss: 0.0153 - val_accuracy: 0.9965\n",
      "Epoch 21/1000\n",
      "487/487 [==============================] - 48s 99ms/step - loss: 0.0049 - accuracy: 0.9992 - val_loss: 0.0125 - val_accuracy: 0.9972\n",
      "Epoch 22/1000\n",
      "487/487 [==============================] - 49s 100ms/step - loss: 0.0107 - accuracy: 0.9977 - val_loss: 0.0147 - val_accuracy: 0.9962\n",
      "Epoch 23/1000\n",
      "487/487 [==============================] - 48s 99ms/step - loss: 0.0077 - accuracy: 0.9981 - val_loss: 0.0158 - val_accuracy: 0.9959\n",
      "Epoch 24/1000\n",
      "487/487 [==============================] - 48s 99ms/step - loss: 0.0048 - accuracy: 0.9991 - val_loss: 0.0093 - val_accuracy: 0.9976\n",
      "Epoch 25/1000\n",
      "487/487 [==============================] - 48s 99ms/step - loss: 0.0047 - accuracy: 0.9986 - val_loss: 0.0385 - val_accuracy: 0.9907\n",
      "Epoch 26/1000\n",
      "487/487 [==============================] - 48s 99ms/step - loss: 0.0054 - accuracy: 0.9988 - val_loss: 0.0140 - val_accuracy: 0.9962\n",
      "Epoch 27/1000\n",
      "487/487 [==============================] - 48s 99ms/step - loss: 0.0021 - accuracy: 0.9997 - val_loss: 0.0079 - val_accuracy: 0.9978\n",
      "Epoch 28/1000\n",
      "487/487 [==============================] - 48s 99ms/step - loss: 0.0056 - accuracy: 0.9986 - val_loss: 0.0163 - val_accuracy: 0.9959\n",
      "Epoch 29/1000\n",
      "487/487 [==============================] - 48s 99ms/step - loss: 0.0068 - accuracy: 0.9984 - val_loss: 0.0128 - val_accuracy: 0.9968\n",
      "Epoch 30/1000\n",
      "487/487 [==============================] - 49s 100ms/step - loss: 0.0053 - accuracy: 0.9986 - val_loss: 0.0148 - val_accuracy: 0.9959\n",
      "Epoch 31/1000\n",
      "487/487 [==============================] - 49s 100ms/step - loss: 0.0037 - accuracy: 0.9994 - val_loss: 0.0100 - val_accuracy: 0.9975\n",
      "Epoch 32/1000\n",
      "487/487 [==============================] - 48s 99ms/step - loss: 0.0060 - accuracy: 0.9986 - val_loss: 0.0096 - val_accuracy: 0.9980\n",
      "Epoch 33/1000\n",
      "487/487 [==============================] - 48s 99ms/step - loss: 0.0027 - accuracy: 0.9994 - val_loss: 0.0212 - val_accuracy: 0.9948\n",
      "Epoch 34/1000\n",
      "487/487 [==============================] - 49s 100ms/step - loss: 0.0022 - accuracy: 0.9995 - val_loss: 0.0100 - val_accuracy: 0.9976\n",
      "Epoch 35/1000\n",
      "487/487 [==============================] - 49s 100ms/step - loss: 0.0010 - accuracy: 0.9999 - val_loss: 0.0071 - val_accuracy: 0.9982\n",
      "Epoch 36/1000\n",
      "487/487 [==============================] - 49s 100ms/step - loss: 0.0048 - accuracy: 0.9988 - val_loss: 0.0211 - val_accuracy: 0.9950\n",
      "Epoch 37/1000\n",
      "487/487 [==============================] - 49s 100ms/step - loss: 0.0018 - accuracy: 0.9996 - val_loss: 0.0103 - val_accuracy: 0.9977\n",
      "Epoch 38/1000\n",
      "487/487 [==============================] - 49s 100ms/step - loss: 0.0029 - accuracy: 0.9994 - val_loss: 0.0194 - val_accuracy: 0.9953\n",
      "Epoch 39/1000\n",
      "487/487 [==============================] - 49s 100ms/step - loss: 0.0058 - accuracy: 0.9983 - val_loss: 0.0110 - val_accuracy: 0.9971\n",
      "Epoch 40/1000\n",
      "487/487 [==============================] - 49s 100ms/step - loss: 0.0025 - accuracy: 0.9994 - val_loss: 0.0081 - val_accuracy: 0.9980\n",
      "Epoch 41/1000\n",
      "487/487 [==============================] - 49s 100ms/step - loss: 0.0030 - accuracy: 0.9992 - val_loss: 0.0101 - val_accuracy: 0.9980\n",
      "Epoch 42/1000\n",
      "487/487 [==============================] - 49s 100ms/step - loss: 0.0026 - accuracy: 0.9994 - val_loss: 0.0061 - val_accuracy: 0.9982\n",
      "Epoch 43/1000\n",
      "487/487 [==============================] - 49s 101ms/step - loss: 0.0035 - accuracy: 0.9992 - val_loss: 0.0146 - val_accuracy: 0.9965\n",
      "Epoch 44/1000\n",
      "487/487 [==============================] - 49s 100ms/step - loss: 9.2218e-04 - accuracy: 0.9999 - val_loss: 0.0074 - val_accuracy: 0.9985\n",
      "Epoch 45/1000\n",
      "487/487 [==============================] - 49s 100ms/step - loss: 0.0067 - accuracy: 0.9983 - val_loss: 0.0418 - val_accuracy: 0.9873\n",
      "Epoch 46/1000\n",
      "487/487 [==============================] - 48s 99ms/step - loss: 0.0050 - accuracy: 0.9983 - val_loss: 0.0166 - val_accuracy: 0.9965\n",
      "Epoch 47/1000\n",
      "487/487 [==============================] - 48s 99ms/step - loss: 0.0017 - accuracy: 0.9996 - val_loss: 0.0131 - val_accuracy: 0.9970\n",
      "Epoch 48/1000\n",
      "487/487 [==============================] - 48s 99ms/step - loss: 0.0031 - accuracy: 0.9989 - val_loss: 0.0113 - val_accuracy: 0.9972\n",
      "Epoch 49/1000\n",
      "487/487 [==============================] - 49s 100ms/step - loss: 0.0012 - accuracy: 0.9998 - val_loss: 0.0075 - val_accuracy: 0.9985\n",
      "Epoch 50/1000\n",
      "487/487 [==============================] - 49s 100ms/step - loss: 4.9752e-04 - accuracy: 1.0000 - val_loss: 0.0078 - val_accuracy: 0.9984\n",
      "Epoch 51/1000\n",
      "487/487 [==============================] - 49s 100ms/step - loss: 0.0012 - accuracy: 0.9999 - val_loss: 0.0102 - val_accuracy: 0.9974\n",
      "Epoch 52/1000\n",
      "487/487 [==============================] - 49s 100ms/step - loss: 0.0062 - accuracy: 0.9983 - val_loss: 0.0078 - val_accuracy: 0.9985\n"
     ]
    }
   ],
   "source": [
    "print('Training model 1')\n",
    "opt = Adam(learning_rate=0.00001)\n",
    "earlystopping = callbacks.EarlyStopping(monitor=\"val_loss\", patience = 10, restore_best_weights = True)\n",
    "model1.compile(optimizer=opt,loss='categorical_crossentropy',metrics=['accuracy'])\n",
    "# model1.summary()\n",
    "\n",
    "\n",
    "\n",
    "history_const = model1.fit(X_train, y_train,batch_size=50, epochs = 1000, validation_data=(X_test,y_test),\n",
    "                   callbacks= [earlystopping])\n"
   ]
  },
  {
   "cell_type": "code",
   "execution_count": 18,
   "id": "7d5b72d6",
   "metadata": {},
   "outputs": [
    {
     "name": "stdout",
     "output_type": "stream",
     "text": [
      "Saving\n",
      "saved\n"
     ]
    }
   ],
   "source": [
    "print('Saving')\n",
    "np.save(load_path+model_name1+'_history.npy',history_const.history)\n",
    "model1.save(load_path+model_name1+'_model.h5') \n",
    "print(\"saved\")"
   ]
  },
  {
   "cell_type": "code",
   "execution_count": 8,
   "id": "f40f84c9",
   "metadata": {},
   "outputs": [
    {
     "name": "stdout",
     "output_type": "stream",
     "text": [
      "loaded\n"
     ]
    }
   ],
   "source": [
    "# #load saved history\n",
    "history_const=np.load(load_path+model_name1+'_history.npy',allow_pickle='TRUE').item()\n",
    "\n",
    "# #load saved model\n",
    "model1=load_model(load_path+model_name1+'_model.h5')\n",
    "\n",
    "print(\"loaded\")"
   ]
  },
  {
   "cell_type": "code",
   "execution_count": 19,
   "id": "caf213f3",
   "metadata": {},
   "outputs": [
    {
     "name": "stdout",
     "output_type": "stream",
     "text": [
      "Plots\n"
     ]
    },
    {
     "data": {
      "image/png": "[encoded data removed]",
      "text/plain": [
       "<Figure size 432x288 with 1 Axes>"
      ]
     },
     "metadata": {
      "needs_background": "light"
     },
     "output_type": "display_data"
    },
    {
     "data": {
      "image/png": "[encoded data removed]",
      "text/plain": [
       "<Figure size 432x288 with 1 Axes>"
      ]
     },
     "metadata": {
      "needs_background": "light"
     },
     "output_type": "display_data"
    }
   ],
   "source": [
    "print('Plots')\n",
    "plt.plot(history_const.history['loss'])\n",
    "plt.plot(history_const.history['val_loss'])\n",
    "plt.title('model loss')\n",
    "plt.ylabel('loss')\n",
    "plt.xlabel('epoch')\n",
    "plt.legend(['train', 'val'], loc='upper left')\n",
    "# plt.savefig('F:/VA/onehandtwohand/26words_DSLR_results/'+model_name1+'_loss.png')\n",
    "plt.savefig(load_path+model_name1+'_loss.png')\n",
    "plt.show()\n",
    "plt.plot(history_const.history['accuracy'])\n",
    "plt.plot(history_const.history['val_accuracy'])\n",
    "plt.title('model accuracy')\n",
    "plt.ylabel('accuracy')\n",
    "\n",
    "plt.xlabel('epoch')\n",
    "plt.legend(['train', 'val'], loc='upper left')\n",
    "plt.savefig(load_path+model_name1+'_accuracy.png')\n",
    "plt.show()"
   ]
  },
  {
   "cell_type": "code",
   "execution_count": null,
   "id": "4006fd26",
   "metadata": {},
   "outputs": [],
   "source": [
    "print('Confusion matrix')\n",
    "Y_pred = model1.predict(X_new)\n",
    "y_pred = np.argmax(Y_pred, axis=1)\n",
    "y_test1 = np.argmax(y_new, axis=1)\n",
    "\n",
    "cm=metrics.confusion_matrix(y_test1, y_pred)\n",
    "\n",
    "\n",
    "cm = cm.astype('float') / cm.sum(axis=1)[:, np.newaxis]\n",
    "a4_dims = (200, 100)\n",
    "fig,ax= plt.subplots(figsize=a4_dims)\n",
    "sns.heatmap(cm, annot=True, fmt=\".2f\", ax=ax,  linewidth=.5);  \n",
    "ax.set_xlabel('Predicted labels');ax.set_ylabel('True labels'); \n",
    "ax.set_title('Confusion Matrix'); \n",
    "ax.set_xticklabels(CATEGORIES)\n",
    "ax.set_yticklabels(CATEGORIES)\n",
    "plt.xlabel('Predicted')\n",
    "plt.ylabel('True')\n",
    "plt.setp(ax.get_xticklabels(), rotation=90, horizontalalignment='right')\n",
    "plt.setp(ax.get_yticklabels(), rotation=0, horizontalalignment='right')\n",
    "plt.savefig(load_path+model_name1+'_cm.png',bbox_inches='tight')\n",
    "plt.show()\n"
   ]
  },
  {
   "cell_type": "code",
   "execution_count": null,
   "id": "c57902f0",
   "metadata": {},
   "outputs": [],
   "source": [
    "#PLot fractional incorrect misclassifications\n",
    "\n",
    "incorr_fraction = 1 - np.diag(cm) / np.sum(cm, axis=1)\n",
    "\n",
    "fig, ax = plt.subplots(figsize=(12,8))\n",
    "plt.bar(np.arange(cat_len), incorr_fraction)\n",
    "plt.xlabel('True Label')\n",
    "plt.ylabel('Fraction of incorrect predictions')\n",
    "plt.xticks(np.arange(cat_len), CATEGORIES)\n",
    "plt.savefig(load_path+model_name1+'_incorrect_percentage.png',bbox_inches='tight')\n",
    "plt.show()"
   ]
  },
  {
   "cell_type": "code",
   "execution_count": null,
   "id": "c596ec0b",
   "metadata": {},
   "outputs": [],
   "source": [
    "#CHECK RANDOM IMAGES FROM TESTED DATA WHETHER RIGHT OR WRONG\n",
    "\n",
    "i = random.randint(1,cat_len)\n",
    "plt.imshow(X_new[i,:,:,2]) \n",
    "print(\"Predicted Label: \", CATEGORIES[int(y_pred[i])])\n",
    "print(\"True Label: \", CATEGORIES[int(y_test1[i])])"
   ]
  },
  {
   "cell_type": "code",
   "execution_count": null,
   "id": "13fc757b",
   "metadata": {},
   "outputs": [],
   "source": []
  },
  {
   "cell_type": "markdown",
   "id": "794a50d2",
   "metadata": {},
   "source": [
    "# Colourful mediapipe testing with VA_create_3.0"
   ]
  },
  {
   "cell_type": "code",
   "execution_count": 9,
   "id": "f40106c2",
   "metadata": {},
   "outputs": [],
   "source": [
    "import cv2\n",
    "import mediapipe as mp\n",
    "mp_drawing = mp.solutions.drawing_utils\n",
    "mp_drawing_styles = mp.solutions.drawing_styles\n",
    "mp_holistic = mp.solutions.holistic # Holistic model\n",
    "mp_drawing = mp.solutions.drawing_utils # Drawing utilities\n",
    "\n",
    "def mediapipe_detection(image, model):\n",
    "    image = cv2.cvtColor(image, cv2.COLOR_BGR2RGB) # COLOR CONVERSION BGR 2 RGB\n",
    "    image.flags.writeable = False                  # Image is no longer writeable\n",
    "    results = model.process(image)                 # Make prediction\n",
    "    image.flags.writeable = True                   # Image is now writeable \n",
    "    image = cv2.cvtColor(image, cv2.COLOR_RGB2BGR) # COLOR COVERSION RGB 2 BGR\n",
    "    return image, results\n",
    "    \n",
    "def draw_landmarks(image, results):   \n",
    "    #face\n",
    "    mp_drawing.draw_landmarks(\n",
    "        image,\n",
    "        results.face_landmarks,\n",
    "        mp_holistic.FACEMESH_CONTOURS,\n",
    "        landmark_drawing_spec=None,\n",
    "        connection_drawing_spec=mp_drawing_styles\n",
    "        .get_default_face_mesh_contours_style())\n",
    "#     #pose\n",
    "#     mp_drawing.draw_landmarks(\n",
    "#         image,\n",
    "#         results.pose_landmarks,\n",
    "#         mp_holistic.POSE_CONNECTIONS,\n",
    "#         landmark_drawing_spec=mp_drawing_styles\n",
    "#         .get_default_pose_landmarks_style())\n",
    "    \n",
    "    #left hand\n",
    "    mp_drawing.draw_landmarks(\n",
    "        image,\n",
    "        results.left_hand_landmarks,\n",
    "        mp_holistic.HAND_CONNECTIONS,\n",
    "#         landmark_drawing_spec=None,\n",
    "            mp_drawing_styles.get_default_hand_landmarks_style(),\n",
    "            mp_drawing_styles.get_default_hand_connections_style())\n",
    "    # right hand\n",
    "    mp_drawing.draw_landmarks(\n",
    "        image,\n",
    "        results.right_hand_landmarks,\n",
    "        mp_holistic.HAND_CONNECTIONS,\n",
    "#         landmark_drawing_spec=None,\n",
    "            mp_drawing_styles.get_default_hand_landmarks_style(),\n",
    "            mp_drawing_styles.get_default_hand_connections_style())"
   ]
  },
  {
   "cell_type": "code",
   "execution_count": null,
   "id": "3a1bc8fa",
   "metadata": {},
   "outputs": [],
   "source": [
    "## For veryyyyyyyy beautiful webcam input:\n",
    "\n",
    "cap = cv2.VideoCapture(0)\n",
    "org = (20, 20)  \n",
    "org1 = (310, 20) \n",
    "fontScale = 0.65  \n",
    "font = cv2.FONT_HERSHEY_SIMPLEX\n",
    "# Blue color in BGR\n",
    "color = (130, 0, 0)  \n",
    "# Line thickness of 2 px\n",
    "thickness = 1 \n",
    "thickness1 = -1\n",
    "start_point = (0,0)\n",
    "end_point = (480,30)\n",
    "color1 = (255, 255, 255)  \n",
    "cls='R'\n",
    "with mp_holistic.Holistic(min_detection_confidence=0.5,min_tracking_confidence=0.5) as holistic:\n",
    "      while cap.isOpened():\n",
    "        #image from feeder\n",
    "        r, img_array = cap.read()\n",
    "        img_array = cv2.flip(img_array, 1)\n",
    "        #webcam\n",
    "        img_array = img_array[:, 80:560, :]\n",
    "        #dslr\n",
    "#         img_array = cv2.resize(img_array[:, 224:800, :],(480,480))\n",
    "        \n",
    "        image, results = mediapipe_detection(img_array, holistic)\n",
    "        draw_landmarks(image, results)\n",
    "        if not (results.left_hand_landmarks or results.right_hand_landmarks):\n",
    "            continue\n",
    "\n",
    "        # white background\n",
    "        img = np.zeros([480,480,3],dtype=np.uint8)\n",
    "        img.fill(255) \n",
    "        draw_landmarks(img, results)\n",
    "\n",
    "        # for prediction\n",
    "        IMG_SIZE=128\n",
    "        img = cv2.resize(img, (IMG_SIZE, IMG_SIZE))\n",
    "        X = np.array(img).reshape(-1, IMG_SIZE, IMG_SIZE, 3)\n",
    "        X = X.astype('float32')\n",
    "        X /= 255\n",
    "        X = np.array(X)\n",
    "        Y = model1.predict(X,verbose=0)\n",
    "\n",
    "        if np.max(Y)>0.2:\n",
    "            # for display\n",
    "            image = cv2.rectangle(image, start_point, end_point, color1, thickness1)\n",
    "            image = cv2.rectangle(image, (0,30), (480,30), color, 2)\n",
    "            image = cv2.putText(image,\"Prediction: \"+ CATEGORIES[np.argmax(Y)], org, font, \n",
    "                   fontScale, color, thickness, cv2.LINE_AA)\n",
    "            image = cv2.putText(image,\"Accuracy: \"+ \"%.2f\" % np.max(Y), org1, font, \n",
    "                   fontScale, color, thickness, cv2.LINE_AA)\n",
    "            if CATEGORIES[np.argmax(Y)]==cls:\n",
    "                cv2.imwrite(load_path+'/15layer_99.82_test_images/mp_'+\n",
    "                            CATEGORIES[np.argmax(Y)]+'_'+str(np.max(Y))+'.jpg',image)\n",
    "                cv2.imwrite(load_path+'/15layer_99.82_test_images/ori_'+\n",
    "                            CATEGORIES[np.argmax(Y)]+'_'+str(np.max(Y))+'.jpg',img_array)\n",
    "\n",
    "\n",
    "        cv2.imshow('Realtime testing', image)\n",
    "\n",
    "        if cv2.waitKey(10) & 0xFF == ord('q'):\n",
    "                break\n",
    "# close the camera\n",
    "cap.release()\n",
    "\n",
    "# close all the opened windows\n",
    "cv2.destroyAllWindows()"
   ]
  },
  {
   "cell_type": "code",
   "execution_count": null,
   "id": "91c88845",
   "metadata": {},
   "outputs": [],
   "source": []
  },
  {
   "cell_type": "code",
   "execution_count": null,
   "id": "4b8a99bd",
   "metadata": {},
   "outputs": [],
   "source": []
  }
 ],
 "metadata": {
  "kernelspec": {
   "display_name": "Python 3 (ipykernel)",
   "language": "python",
   "name": "python3"
  },
  "language_info": {
   "codemirror_mode": {
    "name": "ipython",
    "version": 3
   },
   "file_extension": ".py",
   "mimetype": "text/x-python",
   "name": "python",
   "nbconvert_exporter": "python",
   "pygments_lexer": "ipython3",
   "version": "3.9.7"
  }
 },
 "nbformat": 4,
 "nbformat_minor": 5
}
